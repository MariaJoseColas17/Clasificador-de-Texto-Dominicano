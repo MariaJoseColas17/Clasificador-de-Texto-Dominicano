{
  "nbformat": 4,
  "nbformat_minor": 0,
  "metadata": {
    "colab": {
      "provenance": []
    },
    "kernelspec": {
      "name": "python3",
      "display_name": "Python 3"
    },
    "language_info": {
      "name": "python"
    }
  },
  "cells": [
    {
      "cell_type": "code",
      "source": [
        "import pandas as pd\n",
        "\n",
        "data = {\n",
        "    \"texto\": [\n",
        "        # Emergencia\n",
        "        \"¡Se desmayó mi abuela!\", \"Se pinchó la goma\", \"Estoy grave, no puedo respirar\",\n",
        "        \"¿Tienen emergencia médica aquí?\", \"Ayuda, hay un herido\", \"Mi tío se cayó y no se mueve\",\n",
        "        \"La doña no está respirando bien\", \"Se prendió fuego en la cocina\",\n",
        "        \"Hay un accidente en la calle\", \"¡Auxilio, se cortó con un cuchillo!\",\n",
        "\n",
        "        # Consulta\n",
        "        \"¿Dónde hay un colmado?\", \"¿Dónde puedo encontrar una farmacia?\", \"¿Hay ruta para Villa Mella?\",\n",
        "        \"¿Dónde queda la parada del metro?\", \"¿A qué hora cierra el colmado?\", \"¿Cuál es el número de emergencia?\",\n",
        "        \"¿Cómo llego al hospital más cercano?\", \"¿Dónde pido un taxi rápido?\", \"¿Cuál es la ruta al 27?\",\n",
        "        \"¿Qué delivery llega más rápido?\",\n",
        "\n",
        "        # Informal\n",
        "        \"Loco, vamos al coro esta noche\", \"Voy pa’ donde el pana\", \"Manito, préstame algo\",\n",
        "        \"Ey manito, vamos al teteo\", \"Dime a ver qué lo qué\", \"Klk mi pana\", \"Oe mi loco\",\n",
        "        \"Loco toy en olla\", \"Vamos a freír unos yaniqueques\", \"Ta' to' chill hoy\"\n",
        "    ],\n",
        "    \"categoria\": [\n",
        "        \"emergencia\", \"emergencia\", \"emergencia\", \"emergencia\", \"emergencia\",\n",
        "        \"emergencia\", \"emergencia\", \"emergencia\", \"emergencia\", \"emergencia\",\n",
        "\n",
        "        \"consulta\", \"consulta\", \"consulta\", \"consulta\", \"consulta\",\n",
        "        \"consulta\", \"consulta\", \"consulta\", \"consulta\", \"consulta\",\n",
        "\n",
        "        \"informal\", \"informal\", \"informal\", \"informal\", \"informal\",\n",
        "        \"informal\", \"informal\", \"informal\", \"informal\", \"informal\"\n",
        "    ]\n",
        "}\n",
        "\n",
        "df = pd.DataFrame(data)\n",
        "df[\"texto\"] = df[\"texto\"].str.lower()  # Normaliza\n",
        "\n"
      ],
      "metadata": {
        "id": "GzATLdWFeA2T"
      },
      "execution_count": 65,
      "outputs": []
    },
    {
      "cell_type": "code",
      "source": [
        "from sklearn.feature_extraction.text import TfidfVectorizer\n",
        "from sklearn.model_selection import train_test_split\n",
        "\n",
        "vectorizador = TfidfVectorizer()\n",
        "X = vectorizador.fit_transform(df['texto'])\n",
        "y = df['categoria']\n",
        "\n",
        "X_train, X_test, y_train, y_test = train_test_split(X, y, test_size=0.3, random_state=42)\n"
      ],
      "metadata": {
        "id": "cCZvxH_0g7Ch"
      },
      "execution_count": 66,
      "outputs": []
    },
    {
      "cell_type": "code",
      "source": [
        "from sklearn.ensemble import RandomForestClassifier\n",
        "from sklearn.metrics import classification_report\n",
        "\n",
        "modelo = RandomForestClassifier()\n",
        "modelo.fit(X_train, y_train)\n",
        "\n",
        "y_pred = modelo.predict(X_test)\n",
        "print(classification_report(y_test, y_pred, zero_division=0))\n",
        "\n"
      ],
      "metadata": {
        "colab": {
          "base_uri": "https://localhost:8080/"
        },
        "id": "9ruZCyPCg9C8",
        "outputId": "fa57317c-52b8-476d-b3ff-f7a450a7f1fa"
      },
      "execution_count": 67,
      "outputs": [
        {
          "output_type": "stream",
          "name": "stdout",
          "text": [
            "              precision    recall  f1-score   support\n",
            "\n",
            "    consulta       0.67      0.67      0.67         3\n",
            "  emergencia       0.67      1.00      0.80         2\n",
            "    informal       1.00      0.75      0.86         4\n",
            "\n",
            "    accuracy                           0.78         9\n",
            "   macro avg       0.78      0.81      0.77         9\n",
            "weighted avg       0.81      0.78      0.78         9\n",
            "\n"
          ]
        }
      ]
    },
    {
      "cell_type": "code",
      "source": [
        "frases_nuevas = [\n",
        "    \"¡Se pinchó la goma!\", \"¿Dónde hay un colmado?\", \"Loco, préstame algo\",\n",
        "    \"Mi tío se cayó y no se mueve\", \"Ey, vamos al teteo esta noche\", \"Se prendió fuego en la cocina\", \"me toy haciendo pipi\"\n",
        "]\n",
        "\n",
        "frases_nuevas = [f.lower() for f in frases_nuevas]\n",
        "X_nuevas = vectorizador.transform(frases_nuevas)\n",
        "predicciones = modelo.predict(X_nuevas)\n",
        "\n",
        "for texto, pred in zip(frases_nuevas, predicciones):\n",
        "    print(f'Texto: \"{texto}\" → Clasificación: \"{pred}\"')\n"
      ],
      "metadata": {
        "colab": {
          "base_uri": "https://localhost:8080/"
        },
        "id": "sr6x6veEg_cB",
        "outputId": "343586fc-8d00-48ef-f750-01731803bc10"
      },
      "execution_count": 71,
      "outputs": [
        {
          "output_type": "stream",
          "name": "stdout",
          "text": [
            "Texto: \"¡se pinchó la goma!\" → Clasificación: \"emergencia\"\n",
            "Texto: \"¿dónde hay un colmado?\" → Clasificación: \"consulta\"\n",
            "Texto: \"loco, préstame algo\" → Clasificación: \"informal\"\n",
            "Texto: \"mi tío se cayó y no se mueve\" → Clasificación: \"emergencia\"\n",
            "Texto: \"ey, vamos al teteo esta noche\" → Clasificación: \"informal\"\n",
            "Texto: \"se prendió fuego en la cocina\" → Clasificación: \"emergencia\"\n",
            "Texto: \"me toy haciendo pipi\" → Clasificación: \"emergencia\"\n"
          ]
        }
      ]
    }
  ]
}